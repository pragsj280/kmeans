{
 "cells": [
  {
   "cell_type": "markdown",
   "metadata": {},
   "source": [
    "K-means is vastly used for clustering in many data science applications, especially useful if you need to quickly discover insights from unlabeled data.\n",
    "Some real-world applications of k-means:\n",
    "\n",
    "Customer segmentation\n",
    "Understand what the visitors of a website are trying to accomplish\n",
    "Pattern recognition\n",
    "Machine learning\n",
    "Data compression"
   ]
  },
  {
   "cell_type": "code",
   "execution_count": 3,
   "metadata": {},
   "outputs": [],
   "source": [
    "import random\n",
    "import numpy as np\n",
    "import pandas as pd\n",
    "import matplotlib.pyplot as plt\n",
    "from sklearn.cluster import KMeans\n",
    "from sklearn.datasets.samples_generator import make_blobs\n",
    "%matplotlib inline"
   ]
  },
  {
   "cell_type": "markdown",
   "metadata": {},
   "source": [
    "Data Clustered points : Random\n",
    "Number of clusters: 4\n",
    "\n",
    "\n",
    "Number of centroids: 4\n",
    "\n"
   ]
  },
  {
   "cell_type": "markdown",
   "metadata": {},
   "source": [
    "k-Means on a randomly generated dataset\n",
    "Lets create our own dataset for this lab!\n",
    "First we need to set up a random seed. Use numpy's random.seed() function, where the seed will be set to 0"
   ]
  },
  {
   "cell_type": "code",
   "execution_count": 4,
   "metadata": {},
   "outputs": [],
   "source": [
    "np.random.seed(0)"
   ]
  },
  {
   "cell_type": "markdown",
   "metadata": {},
   "source": [
    "Input\n",
    "\n",
    "n_samples: The total number of points equally divided among clusters.\n",
    "Value will be: 5000\n",
    "centers: The number of centers to generate, or the fixed center locations.\n",
    "Value will be: [[4, 4], [-2, -1], [2, -3],[1,1]]\n",
    "cluster_std: The standard deviation of the clusters.\n",
    "Value will be: 0.6\n",
    "\n",
    "Output\n",
    "X: Array of shape [n_samples, n_features]. (Feature Matrix)\n",
    "The generated samples.\n",
    "y: Array of shape [n_samples]. (Response Vector)\n",
    "The integer labels for cluster membership of each sample."
   ]
  },
  {
   "cell_type": "code",
   "execution_count": 11,
   "metadata": {},
   "outputs": [],
   "source": [
    "X,y=make_blobs(n_samples=5000,centers=[[4,4],[-2,-1],[2,-3],[1,1]],cluster_std=0.6)"
   ]
  },
  {
   "cell_type": "code",
   "execution_count": 12,
   "metadata": {},
   "outputs": [
    {
     "data": {
      "image/png": "[encoded data removed]",
      "text/plain": [
       "<Figure size 432x288 with 1 Axes>"
      ]
     },
     "metadata": {
      "needs_background": "light"
     },
     "output_type": "display_data"
    }
   ],
   "source": [
    "plt.scatter(X[:,0],X[:,1],marker='+',color=\"cyan\")\n",
    "plt.show()"
   ]
  },
  {
   "cell_type": "code",
   "execution_count": 13,
   "metadata": {},
   "outputs": [
    {
     "data": {
      "text/plain": [
       "array([[ 2.11762839, -2.76378338],\n",
       "       [ 4.74846611,  4.00413751],\n",
       "       [ 2.18728215, -2.29557685],\n",
       "       ...,\n",
       "       [-2.41070981, -0.52349552],\n",
       "       [ 4.37018025,  4.76918975],\n",
       "       [ 2.52313548, -2.23349527]])"
      ]
     },
     "execution_count": 13,
     "metadata": {},
     "output_type": "execute_result"
    }
   ],
   "source": [
    "X"
   ]
  },
  {
   "cell_type": "code",
   "execution_count": 14,
   "metadata": {},
   "outputs": [
    {
     "data": {
      "text/plain": [
       "array([2, 0, 2, ..., 1, 0, 2])"
      ]
     },
     "execution_count": 14,
     "metadata": {},
     "output_type": "execute_result"
    }
   ],
   "source": [
    "y"
   ]
  },
  {
   "cell_type": "markdown",
   "metadata": {},
   "source": [
    "Setting up K-Means\n",
    "Now that we have our random data, let's set up our K-Means Clustering.\n",
    "The KMeans class has many parameters that can be used, but we will be using these three:\n",
    "\n",
    "init: Initialization method of the centroids.\n",
    "Value will be: \"k-means++\"\n",
    "k-means++: Selects initial cluster centers for k-mean clustering in a smart way to speed up convergence.\n",
    "n_clusters: The number of clusters to form as well as the number of centroids to generate.\n",
    "Value will be: 4 (since we have 4 centers)\n",
    "n_init: Number of time the k-means algorithm will be run with different centroid seeds. The final results will be the best output of n_init consecutive runs in terms of inertia.\n",
    "Value will be: 15\n",
    "Initialize KMeans with these parameters, where the output parameter is called k_means."
   ]
  },
  {
   "cell_type": "code",
   "execution_count": 16,
   "metadata": {},
   "outputs": [
    {
     "data": {
      "text/plain": [
       "KMeans(n_clusters=4, n_init=15)"
      ]
     },
     "execution_count": 16,
     "metadata": {},
     "output_type": "execute_result"
    }
   ],
   "source": [
    "k_means=KMeans(init=\"k-means++\",n_clusters=4,n_init=15)\n",
    "k_means.fit(X)\n",
    "k_means"
   ]
  },
  {
   "cell_type": "markdown",
   "metadata": {},
   "source": [
    "now,grab the labels of each point."
   ]
  },
  {
   "cell_type": "code",
   "execution_count": 17,
   "metadata": {},
   "outputs": [
    {
     "data": {
      "text/plain": [
       "array([3, 1, 3, ..., 2, 1, 3])"
      ]
     },
     "execution_count": 17,
     "metadata": {},
     "output_type": "execute_result"
    }
   ],
   "source": [
    "k_means_labels=k_means.labels_\n",
    "k_means_labels"
   ]
  },
  {
   "cell_type": "code",
   "execution_count": 18,
   "metadata": {},
   "outputs": [
    {
     "data": {
      "text/plain": [
       "array([[ 0.97864449,  0.99068393],\n",
       "       [ 3.98658572,  3.98766326],\n",
       "       [-1.98339442, -1.03726635],\n",
       "       [ 2.00630835, -2.99122186]])"
      ]
     },
     "execution_count": 18,
     "metadata": {},
     "output_type": "execute_result"
    }
   ],
   "source": [
    "k_means_cluster_centers=k_means.cluster_centers_\n",
    "k_means_cluster_centers"
   ]
  },
  {
   "cell_type": "code",
   "execution_count": 20,
   "metadata": {},
   "outputs": [
    {
     "data": {
      "image/png": "[encoded data removed]",
      "text/plain": [
       "<Figure size 432x288 with 1 Axes>"
      ]
     },
     "metadata": {
      "needs_background": "light"
     },
     "output_type": "display_data"
    }
   ],
   "source": [
    "plt.scatter(X[:, 0], X[:, 1], c=k_means_labels, s=50, cmap='viridis')\n",
    "\n",
    "plt.scatter(k_means_cluster_centers[:, 0], k_means_cluster_centers[:, 1], c='black', s=200, alpha=0.5);"
   ]
  },
  {
   "cell_type": "code",
   "execution_count": null,
   "metadata": {},
   "outputs": [],
   "source": []
  }
 ],
 "metadata": {
  "kernelspec": {
   "display_name": "Python 3",
   "language": "python",
   "name": "python3"
  },
  "language_info": {
   "codemirror_mode": {
    "name": "ipython",
    "version": 3
   },
   "file_extension": ".py",
   "mimetype": "text/x-python",
   "name": "python",
   "nbconvert_exporter": "python",
   "pygments_lexer": "ipython3",
   "version": "3.8.2"
  }
 },
 "nbformat": 4,
 "nbformat_minor": 4
}
